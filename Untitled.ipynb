{
 "cells": [
  {
   "cell_type": "code",
   "execution_count": 2,
   "metadata": {},
   "outputs": [],
   "source": [
    "import pandas as pd\n",
    "import numpy as np\n",
    "import seaborn as sns\n",
    "from sklearn.datasets import load_boston, load_iris\n",
    "from sklearn.linear_model import LinearRegression,Ridge,SGDRegressor\n",
    "from sklearn.model_selection import train_test_split\n",
    "from sklearn.model_selection import GridSearchCV\n",
    "from sklearn.model_selection import cross_val_score\n",
    "from sklearn.neural_network import MLPRegressor \n",
    "from sklearn.preprocessing import MinMaxScaler, StandardScaler\n",
    "\n",
    "import mglearn\n",
    "import matplotlib.pyplot as plt\n",
    "import matplotlib\n",
    "matplotlib.rcParams['font.family']='Malgun Gothic'\n",
    "matplotlib.rcParams['axes.unicode_minus'] = False\n",
    "\n",
    "import warnings\n",
    "warnings.simplefilter('ignore')\n"
   ]
  },
  {
   "cell_type": "code",
   "execution_count": 3,
   "metadata": {},
   "outputs": [
    {
     "data": {
      "text/html": [
       "<div>\n",
       "<style scoped>\n",
       "    .dataframe tbody tr th:only-of-type {\n",
       "        vertical-align: middle;\n",
       "    }\n",
       "\n",
       "    .dataframe tbody tr th {\n",
       "        vertical-align: top;\n",
       "    }\n",
       "\n",
       "    .dataframe thead th {\n",
       "        text-align: right;\n",
       "    }\n",
       "</style>\n",
       "<table border=\"1\" class=\"dataframe\">\n",
       "  <thead>\n",
       "    <tr style=\"text-align: right;\">\n",
       "      <th></th>\n",
       "      <th>q1</th>\n",
       "      <th>q2</th>\n",
       "      <th>mtot</th>\n",
       "      <th>ftot</th>\n",
       "      <th>finalscore</th>\n",
       "    </tr>\n",
       "  </thead>\n",
       "  <tbody>\n",
       "    <tr>\n",
       "      <th>0</th>\n",
       "      <td>828.0</td>\n",
       "      <td>920.0</td>\n",
       "      <td>1234567.0</td>\n",
       "      <td>1020.0</td>\n",
       "      <td>1111.0</td>\n",
       "    </tr>\n",
       "    <tr>\n",
       "      <th>1</th>\n",
       "      <td>824.0</td>\n",
       "      <td>910.0</td>\n",
       "      <td>2345612.0</td>\n",
       "      <td>1090.0</td>\n",
       "      <td>1234.0</td>\n",
       "    </tr>\n",
       "    <tr>\n",
       "      <th>2</th>\n",
       "      <td>880.0</td>\n",
       "      <td>900.0</td>\n",
       "      <td>3456123.0</td>\n",
       "      <td>1010.0</td>\n",
       "      <td>1000.0</td>\n",
       "    </tr>\n",
       "    <tr>\n",
       "      <th>3</th>\n",
       "      <td>870.0</td>\n",
       "      <td>990.0</td>\n",
       "      <td>2312123.0</td>\n",
       "      <td>1001.0</td>\n",
       "      <td>1122.0</td>\n",
       "    </tr>\n",
       "    <tr>\n",
       "      <th>4</th>\n",
       "      <td>860.0</td>\n",
       "      <td>980.0</td>\n",
       "      <td>3223123.0</td>\n",
       "      <td>1008.0</td>\n",
       "      <td>1133.0</td>\n",
       "    </tr>\n",
       "    <tr>\n",
       "      <th>5</th>\n",
       "      <td>850.0</td>\n",
       "      <td>970.0</td>\n",
       "      <td>2432123.0</td>\n",
       "      <td>1100.0</td>\n",
       "      <td>1221.0</td>\n",
       "    </tr>\n",
       "  </tbody>\n",
       "</table>\n",
       "</div>"
      ],
      "text/plain": [
       "      q1     q2       mtot    ftot  finalscore\n",
       "0  828.0  920.0  1234567.0  1020.0      1111.0\n",
       "1  824.0  910.0  2345612.0  1090.0      1234.0\n",
       "2  880.0  900.0  3456123.0  1010.0      1000.0\n",
       "3  870.0  990.0  2312123.0  1001.0      1122.0\n",
       "4  860.0  980.0  3223123.0  1008.0      1133.0\n",
       "5  850.0  970.0  2432123.0  1100.0      1221.0"
      ]
     },
     "execution_count": 3,
     "metadata": {},
     "output_type": "execute_result"
    }
   ],
   "source": [
    "df = pd.read_csv('data4/total_grade.csv')\n",
    "df.columns =['q1','q2','mtot','ftot','finalscore']\n",
    "df"
   ]
  },
  {
   "cell_type": "code",
   "execution_count": 4,
   "metadata": {},
   "outputs": [],
   "source": [
    "x_data = df.iloc[:,:-1]\n",
    "y_data = df.iloc[:,-1]"
   ]
  },
  {
   "cell_type": "code",
   "execution_count": 5,
   "metadata": {},
   "outputs": [
    {
     "data": {
      "text/plain": [
       "LinearRegression(copy_X=True, fit_intercept=True, n_jobs=None, normalize=False)"
      ]
     },
     "execution_count": 5,
     "metadata": {},
     "output_type": "execute_result"
    }
   ],
   "source": [
    "modelDF = LinearRegression()\n",
    "modelDF.fit(x_data, y_data)"
   ]
  },
  {
   "cell_type": "code",
   "execution_count": 6,
   "metadata": {},
   "outputs": [
    {
     "name": "stdout",
     "output_type": "stream",
     "text": [
      "R2 0.9697933202479309\n"
     ]
    }
   ],
   "source": [
    "print(\"R2\", modelDF.score(x_data,y_data))"
   ]
  },
  {
   "cell_type": "code",
   "execution_count": null,
   "metadata": {},
   "outputs": [],
   "source": []
  },
  {
   "cell_type": "code",
   "execution_count": null,
   "metadata": {},
   "outputs": [],
   "source": []
  },
  {
   "cell_type": "code",
   "execution_count": 7,
   "metadata": {},
   "outputs": [],
   "source": [
    "scaleX = StandardScaler()\n",
    "x_dataS = scaleX.fit_transform( x_data )"
   ]
  },
  {
   "cell_type": "code",
   "execution_count": 8,
   "metadata": {
    "scrolled": true
   },
   "outputs": [
    {
     "data": {
      "text/plain": [
       "array([[-1.16737998, -0.69560834, -1.76073586, -0.44667255],\n",
       "       [-1.36194331, -0.97385168, -0.21556406,  1.27445103],\n",
       "       [ 1.36194331, -1.25209502,  1.32886509, -0.69254734],\n",
       "       [ 0.87553499,  1.25209502, -0.26213846, -0.91383466],\n",
       "       [ 0.38912666,  0.97385168,  1.00482328, -0.7417223 ],\n",
       "       [-0.09728167,  0.69560834, -0.09524998,  1.52032583]])"
      ]
     },
     "execution_count": 8,
     "metadata": {},
     "output_type": "execute_result"
    }
   ],
   "source": [
    "x_dataS"
   ]
  },
  {
   "cell_type": "code",
   "execution_count": 11,
   "metadata": {
    "scrolled": true
   },
   "outputs": [
    {
     "name": "stdout",
     "output_type": "stream",
     "text": [
      "-5.5453765627217595e+26\n"
     ]
    }
   ],
   "source": [
    "modelSGD = SGDRegressor(\n",
    "                loss='squared_loss',   \n",
    "                alpha=0.0001,  \n",
    "                max_iter=100, \n",
    "                early_stopping=True,   \n",
    "                verbose=0, \n",
    "                    )\n",
    "modelSGD.fit( x_data, y_data )\n",
    "print( modelSGD.score( x_dataS, y_data) )"
   ]
  },
  {
   "cell_type": "markdown",
   "metadata": {},
   "source": [
    "MLPRegressor"
   ]
  },
  {
   "cell_type": "code",
   "execution_count": 25,
   "metadata": {
    "scrolled": true
   },
   "outputs": [
    {
     "name": "stdout",
     "output_type": "stream",
     "text": [
      "0.9999945064320379\n",
      "-11.108053669658846\n"
     ]
    }
   ],
   "source": [
    "modelNN = MLPRegressor( \n",
    "                        hidden_layer_sizes=(100,10),  \n",
    "                        solver='adam',  \n",
    "                        alpha=0.1,  \n",
    "                        max_iter=5000,  \n",
    "                        verbose=0,  \n",
    "                        )\n",
    "modelNN.fit( x_train, y_train )\n",
    "print( modelNN.score( x_train, y_train ) )\n",
    "print( modelNN.score(x_test, y_test) )"
   ]
  },
  {
   "cell_type": "code",
   "execution_count": null,
   "metadata": {},
   "outputs": [],
   "source": []
  }
 ],
 "metadata": {
  "kernelspec": {
   "display_name": "Python 3",
   "language": "python",
   "name": "python3"
  },
  "language_info": {
   "codemirror_mode": {
    "name": "ipython",
    "version": 3
   },
   "file_extension": ".py",
   "mimetype": "text/x-python",
   "name": "python",
   "nbconvert_exporter": "python",
   "pygments_lexer": "ipython3",
   "version": "3.7.6"
  }
 },
 "nbformat": 4,
 "nbformat_minor": 4
}
